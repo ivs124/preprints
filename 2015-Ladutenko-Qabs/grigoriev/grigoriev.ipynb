{
 "metadata": {
  "name": "",
  "signature": "sha256:8bb2c8f5cf49d50a61429f1ab7735f8b967b3f7f97bc2e4ac4400b1941b654af"
 },
 "nbformat": 3,
 "nbformat_minor": 0,
 "worksheets": [
  {
   "cells": [
    {
     "cell_type": "code",
     "collapsed": false,
     "input": [
      "%pylab inline\n",
      "from sympy import *\n",
      "import mpmath as mp\n",
      "from IPython.display import display, Math, Latex\n",
      "from fractions import Fraction\n",
      "#init_printing(use_latex='mathjax')\n",
      "init_printing()\n",
      "def latex_print( str ):\n",
      "   \"Helper to print LaTeX strings, takes raw string (like r'string')\"    \n",
      "   display(Latex(str))\n",
      "   return"
     ],
     "language": "python",
     "metadata": {},
     "outputs": [
      {
       "output_type": "stream",
       "stream": "stdout",
       "text": [
        "Populating the interactive namespace from numpy and matplotlib\n"
       ]
      }
     ],
     "prompt_number": 1
    },
    {
     "cell_type": "code",
     "collapsed": false,
     "input": [
      "a, b, rho = symbols('a, b, rho');\n",
      "eps__e, eps_eff = symbols('varepsilon__(e)_IA, varepsilon_eff');\n",
      "eps_core, eps_shell = symbols('varepsilon_c, varepsilon_sh');"
     ],
     "language": "python",
     "metadata": {},
     "outputs": [],
     "prompt_number": 2
    },
    {
     "cell_type": "code",
     "collapsed": false,
     "input": [
      "eq16a=Fraction(1,2)*a**2/rho**2*(1+rho**2/b**2*2*(I*rho+1)/(rho**2-I*rho-1)-\n",
      "                                sqrt((1+rho**2/b**2*2*(I*rho+1)/(rho**2-I*rho-1))**2\n",
      "                                      -rho**2/a**2*8*(I*rho+1)/(rho**2-I*rho-1)))\n",
      "display(eq16a)"
     ],
     "language": "python",
     "metadata": {},
     "outputs": [
      {
       "latex": [
        "$$\\frac{a^{2}}{2 \\rho^{2}} \\left(- \\sqrt{\\left(1 + \\frac{2 \\rho^{2} \\left(i \\rho + 1\\right)}{b^{2} \\left(\\rho^{2} - i \\rho - 1\\right)}\\right)^{2} - \\frac{8 \\rho^{2} \\left(i \\rho + 1\\right)}{a^{2} \\left(\\rho^{2} - i \\rho - 1\\right)}} + 1 + \\frac{2 \\rho^{2} \\left(i \\rho + 1\\right)}{b^{2} \\left(\\rho^{2} - i \\rho - 1\\right)}\\right)$$"
       ],
       "metadata": {},
       "output_type": "display_data",
       "png": "[encoded data removed]",
       "text": [
        "   \u239b         ______________________________________________                   \n",
        "   \u239c        \u2571                        2                                        \n",
        "   \u239c       \u2571  \u239b         2           \u239e         2                        2      \n",
        " 2 \u239c      \u2571   \u239c      2\u22c5\u03c1 \u22c5(\u2148\u22c5\u03c1 + 1) \u239f      8\u22c5\u03c1 \u22c5(\u2148\u22c5\u03c1 + 1)           2\u22c5\u03c1 \u22c5(\u2148\u22c5\u03c1 \n",
        "a \u22c5\u239c-    \u2571    \u239c1 + \u2500\u2500\u2500\u2500\u2500\u2500\u2500\u2500\u2500\u2500\u2500\u2500\u2500\u2500\u2500\u2500\u2500\u239f  - \u2500\u2500\u2500\u2500\u2500\u2500\u2500\u2500\u2500\u2500\u2500\u2500\u2500\u2500\u2500\u2500\u2500  + 1 + \u2500\u2500\u2500\u2500\u2500\u2500\u2500\u2500\u2500\u2500\u2500\u2500\n",
        "   \u239c    \u2571     \u239c     2 \u239b 2          \u239e\u239f     2 \u239b 2          \u239e         2 \u239b 2      \n",
        "   \u239d  \u2572\u2571      \u239d    b \u22c5\u239d\u03c1  - \u2148\u22c5\u03c1 - 1\u23a0\u23a0    a \u22c5\u239d\u03c1  - \u2148\u22c5\u03c1 - 1\u23a0        b \u22c5\u239d\u03c1  - \u2148\u22c5\u03c1\n",
        "\u2500\u2500\u2500\u2500\u2500\u2500\u2500\u2500\u2500\u2500\u2500\u2500\u2500\u2500\u2500\u2500\u2500\u2500\u2500\u2500\u2500\u2500\u2500\u2500\u2500\u2500\u2500\u2500\u2500\u2500\u2500\u2500\u2500\u2500\u2500\u2500\u2500\u2500\u2500\u2500\u2500\u2500\u2500\u2500\u2500\u2500\u2500\u2500\u2500\u2500\u2500\u2500\u2500\u2500\u2500\u2500\u2500\u2500\u2500\u2500\u2500\u2500\u2500\u2500\u2500\u2500\u2500\u2500\u2500\u2500\u2500\u2500\u2500\u2500\u2500\u2500\u2500\u2500\n",
        "                                           2                                  \n",
        "                                        2\u22c5\u03c1                                   \n",
        "\n",
        "     \u239e\n",
        "     \u239f\n",
        "     \u239f\n",
        "+ 1) \u239f\n",
        "\u2500\u2500\u2500\u2500\u2500\u239f\n",
        "    \u239e\u239f\n",
        " - 1\u23a0\u23a0\n",
        "\u2500\u2500\u2500\u2500\u2500\u2500\n",
        "      \n",
        "      "
       ]
      }
     ],
     "prompt_number": 3
    },
    {
     "cell_type": "code",
     "collapsed": false,
     "input": [
      "eq18= (eps_eff-eps_core)/(eps_shell-eps_core)*(eps_shell+2*eps_core)/(eps_eff+2*eps_core)\n",
      "display(eq18)"
     ],
     "language": "python",
     "metadata": {},
     "outputs": [
      {
       "latex": [
        "$$\\frac{\\left(- \\varepsilon_{c} + \\varepsilon_{eff}\\right) \\left(2 \\varepsilon_{c} + \\varepsilon_{sh}\\right)}{\\left(- \\varepsilon_{c} + \\varepsilon_{sh}\\right) \\left(2 \\varepsilon_{c} + \\varepsilon_{eff}\\right)}$$"
       ],
       "metadata": {},
       "output_type": "display_data",
       "png": "[encoded data removed]",
       "text": [
        "(-varepsilon_c + varepsilon_eff)\u22c5(2\u22c5varepsilon_c + varepsilon_sh)\n",
        "\u2500\u2500\u2500\u2500\u2500\u2500\u2500\u2500\u2500\u2500\u2500\u2500\u2500\u2500\u2500\u2500\u2500\u2500\u2500\u2500\u2500\u2500\u2500\u2500\u2500\u2500\u2500\u2500\u2500\u2500\u2500\u2500\u2500\u2500\u2500\u2500\u2500\u2500\u2500\u2500\u2500\u2500\u2500\u2500\u2500\u2500\u2500\u2500\u2500\u2500\u2500\u2500\u2500\u2500\u2500\u2500\u2500\u2500\u2500\u2500\u2500\u2500\u2500\u2500\u2500\n",
        "(-varepsilon_c + varepsilon_sh)\u22c5(2\u22c5varepsilon_c + varepsilon_eff)"
       ]
      }
     ],
     "prompt_number": 4
    },
    {
     "cell_type": "code",
     "collapsed": false,
     "input": [
      "WL=500\n",
      "r=62.5\n",
      "x=2*np.pi*r/WL\n",
      "display(eq16a)\n",
      "print(\"rho=\",x)\n",
      "eq16aeval=eq16a.replace(a, 1.4303*np.pi).replace(b, 0.87335*np.pi).replace(rho,x)\n",
      "eps_eff_eval=N(eq16aeval)\n",
      "print(\"eps_eff=\",eps_eff_eval)\n",
      "#"
     ],
     "language": "python",
     "metadata": {},
     "outputs": [
      {
       "latex": [
        "$$\\frac{a^{2}}{2 \\rho^{2}} \\left(- \\sqrt{\\left(1 + \\frac{2 \\rho^{2} \\left(i \\rho + 1\\right)}{b^{2} \\left(\\rho^{2} - i \\rho - 1\\right)}\\right)^{2} - \\frac{8 \\rho^{2} \\left(i \\rho + 1\\right)}{a^{2} \\left(\\rho^{2} - i \\rho - 1\\right)}} + 1 + \\frac{2 \\rho^{2} \\left(i \\rho + 1\\right)}{b^{2} \\left(\\rho^{2} - i \\rho - 1\\right)}\\right)$$"
       ],
       "metadata": {},
       "output_type": "display_data",
       "png": "[encoded data removed]",
       "text": [
        "   \u239b         ______________________________________________                   \n",
        "   \u239c        \u2571                        2                                        \n",
        "   \u239c       \u2571  \u239b         2           \u239e         2                        2      \n",
        " 2 \u239c      \u2571   \u239c      2\u22c5\u03c1 \u22c5(\u2148\u22c5\u03c1 + 1) \u239f      8\u22c5\u03c1 \u22c5(\u2148\u22c5\u03c1 + 1)           2\u22c5\u03c1 \u22c5(\u2148\u22c5\u03c1 \n",
        "a \u22c5\u239c-    \u2571    \u239c1 + \u2500\u2500\u2500\u2500\u2500\u2500\u2500\u2500\u2500\u2500\u2500\u2500\u2500\u2500\u2500\u2500\u2500\u239f  - \u2500\u2500\u2500\u2500\u2500\u2500\u2500\u2500\u2500\u2500\u2500\u2500\u2500\u2500\u2500\u2500\u2500  + 1 + \u2500\u2500\u2500\u2500\u2500\u2500\u2500\u2500\u2500\u2500\u2500\u2500\n",
        "   \u239c    \u2571     \u239c     2 \u239b 2          \u239e\u239f     2 \u239b 2          \u239e         2 \u239b 2      \n",
        "   \u239d  \u2572\u2571      \u239d    b \u22c5\u239d\u03c1  - \u2148\u22c5\u03c1 - 1\u23a0\u23a0    a \u22c5\u239d\u03c1  - \u2148\u22c5\u03c1 - 1\u23a0        b \u22c5\u239d\u03c1  - \u2148\u22c5\u03c1\n",
        "\u2500\u2500\u2500\u2500\u2500\u2500\u2500\u2500\u2500\u2500\u2500\u2500\u2500\u2500\u2500\u2500\u2500\u2500\u2500\u2500\u2500\u2500\u2500\u2500\u2500\u2500\u2500\u2500\u2500\u2500\u2500\u2500\u2500\u2500\u2500\u2500\u2500\u2500\u2500\u2500\u2500\u2500\u2500\u2500\u2500\u2500\u2500\u2500\u2500\u2500\u2500\u2500\u2500\u2500\u2500\u2500\u2500\u2500\u2500\u2500\u2500\u2500\u2500\u2500\u2500\u2500\u2500\u2500\u2500\u2500\u2500\u2500\u2500\u2500\u2500\u2500\u2500\u2500\n",
        "                                           2                                  \n",
        "                                        2\u22c5\u03c1                                   \n",
        "\n",
        "     \u239e\n",
        "     \u239f\n",
        "     \u239f\n",
        "+ 1) \u239f\n",
        "\u2500\u2500\u2500\u2500\u2500\u239f\n",
        "    \u239e\u239f\n",
        " - 1\u23a0\u23a0\n",
        "\u2500\u2500\u2500\u2500\u2500\u2500\n",
        "      \n",
        "      "
       ]
      },
      {
       "output_type": "stream",
       "stream": "stdout",
       "text": [
        "('rho=', 0.7853981633974483)\n",
        "('eps_eff=', -2.8959457031312 + 1.63134793747717*I)"
       ]
      },
      {
       "output_type": "stream",
       "stream": "stdout",
       "text": [
        "\n"
       ]
      }
     ],
     "prompt_number": 5
    },
    {
     "cell_type": "code",
     "collapsed": false,
     "input": [
      "    epsSi = 18.4631066585 + 0.6259727805*I\n",
      "    epsAg = -8.5014154589 + 0.7585845411*I\n",
      "    eq18mod2 = eq18.replace(eps_core, epsAg).replace(eps_shell,epsSi).replace(eps_eff,eps_eff_eval)\n",
      "    eq18mod3 = simplify(expand(eq18mod2))\n",
      "    display(eq18mod3)\n"
     ],
     "language": "python",
     "metadata": {},
     "outputs": [
      {
       "latex": [
        "$$-0.00753140513730993 - 0.0260136884389219 i$$"
       ],
       "metadata": {},
       "output_type": "display_data",
       "png": "[encoded data removed]",
       "text": [
        "-0.00753140513730993 - - -0.0260136884389219\u22c5\u2148"
       ]
      }
     ],
     "prompt_number": 6
    },
    {
     "cell_type": "code",
     "collapsed": false,
     "input": [],
     "language": "python",
     "metadata": {},
     "outputs": [],
     "prompt_number": 6
    }
   ],
   "metadata": {}
  }
 ]
}